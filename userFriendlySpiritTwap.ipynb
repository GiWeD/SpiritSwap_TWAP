{
 "cells": [
  {
   "cell_type": "code",
   "execution_count": 10,
   "metadata": {},
   "outputs": [],
   "source": [
    "import pandas as pd\n",
    "from pycoingecko import CoinGeckoAPI\n",
    "cg = CoinGeckoAPI()\n",
    "import matplotlib.pyplot as plt\n",
    "from datetime import datetime\n",
    "\n",
    "# the TWAP must be done over a 1week windows using 4h candles\n",
    "# The DATA is retrieve from coingecko API since it's the only one free and reliable\n",
    "# Candle's body:\n",
    "#   1 - 2 days: 30 minutes\n",
    "#   3 - 30 days: 4 hours\n",
    "#   31 and before: 4 days\n",
    "# The data is delivered: [UNIXTIME, OPEN, HIGH, LOW, CLOSED]\n",
    "\n",
    "\n",
    "# The script will start retrieve the last 30days of information. The first information present in the csv file start from 12/12/2021.\n",
    "# After read the Data it load the old information present in coingecko_spiritswap_TWAP.csv and write the new one (if a week is passed!)\n",
    "# There is no need to update or whatever, just run it at least once a month please"
   ]
  },
  {
   "cell_type": "code",
   "execution_count": 11,
   "metadata": {},
   "outputs": [],
   "source": [
    "def get_OHLC_Data(token, days ):\n",
    "\n",
    "    token = str(token).lower() #lower the string, case sensitive\n",
    "    ohlc = cg.get_coin_ohlc_by_id(token, 'usd', days)\n",
    "\n",
    "\n",
    "    return ohlc\n"
   ]
  },
  {
   "cell_type": "code",
   "execution_count": 12,
   "metadata": {},
   "outputs": [],
   "source": [
    "def findLastTime(tempTime, lastTime):\n",
    "    for i in range(len(tempTime)):\n",
    "        if(tempTime[i]/1000 >= lastTime):\n",
    "            break\n",
    "    return i"
   ]
  },
  {
   "cell_type": "code",
   "execution_count": 13,
   "metadata": {},
   "outputs": [],
   "source": [
    "# get data from coinbase\n",
    "\n",
    "TWAP_Window = 604800 #1week in seconds, if you want you can modify this paramater to increase/decrease the twap window\n",
    "ohlcData = get_OHLC_Data('spiritswap', 30)\n",
    "dailySection  = len(ohlcData)\n",
    "\n",
    "# preapre lists\n",
    "tempTimeArray = list()\n",
    "timeArray = list()\n",
    "TWAPArray = list()\n",
    "twapRangeArray = list()\n",
    "AverageSection = list()"
   ]
  },
  {
   "cell_type": "code",
   "execution_count": 14,
   "metadata": {},
   "outputs": [],
   "source": [
    "# retrieve and prepare data\n",
    "for i in range(dailySection):\n",
    "\n",
    "    # retrieve the data in the list\n",
    "    tempData = ohlcData[i]\n",
    "    timestamp = tempData[0]\n",
    "    open = tempData[1]\n",
    "    high = tempData[2]\n",
    "    low = tempData[3]\n",
    "    close = tempData[4]\n",
    "    # print(\"i: %d\\tOpen: %d\\tHigh: %d\\tLow: %d\\tClose: %d\" % (i, open, high, low, close), end='\\r')\n",
    "\n",
    "    # Average of each day’s price = (Open + High + Low + Close)/4\n",
    "    AverageSection.append( (open + high + low + close) /4 )\n",
    "    tempTimeArray.append ( timestamp )\n"
   ]
  },
  {
   "cell_type": "code",
   "execution_count": 15,
   "metadata": {},
   "outputs": [],
   "source": [
    "start = 0\n",
    "deltaTime = (tempTimeArray[1] - tempTimeArray[0]) /1000 # time in ms! \n",
    "pointCounter = int(TWAP_Window/deltaTime)               # cast as int remove floating zeros"
   ]
  },
  {
   "cell_type": "code",
   "execution_count": 16,
   "metadata": {},
   "outputs": [],
   "source": [
    "# find TWAP over 1 week window\n",
    "for i in range(start, len(AverageSection)):\n",
    "    \n",
    "    if (i%pointCounter == 0) and i > 0:\n",
    "        tempValue = 0\n",
    "        for k in range(pointCounter):\n",
    "            tempValue += AverageSection[i-k]\n",
    "        \n",
    "        TWAPArray.append(tempValue/k)\n",
    "        timeArray.append(tempTimeArray[i-k]/1000) # time in ms!\n",
    "        initRange = str( datetime.fromtimestamp(tempTimeArray[i-k]/1000) )\n",
    "        endRange = str( datetime.fromtimestamp(tempTimeArray[i-k]/1000 + TWAP_Window) )\n",
    "        twapRangeArray.append( initRange + \" _To_ \" + endRange )\n",
    "    "
   ]
  },
  {
   "cell_type": "code",
   "execution_count": 17,
   "metadata": {},
   "outputs": [
    {
     "name": "stdout",
     "output_type": "stream",
     "text": [
      "                  day                                    TWAP Range      twap\n",
      "counter                                                                      \n",
      "0        1.640059e+09  2021-12-21 05:00:00 _To_ 2021-12-28 05:00:00  0.141509\n",
      "1        1.640664e+09  2021-12-28 05:00:00 _To_ 2022-01-04 05:00:00  0.175666\n",
      "2        1.641269e+09  2022-01-04 05:00:00 _To_ 2022-01-11 05:00:00  0.205429\n",
      "3        1.641874e+09  2022-01-11 05:00:00 _To_ 2022-01-18 05:00:00  0.286549\n"
     ]
    }
   ],
   "source": [
    "# zip the data\n",
    "finalList = list(zip(timeArray,twapRangeArray, TWAPArray))\n",
    "# create data frame\n",
    "pandasData = pd.DataFrame(finalList, columns=['day','TWAP Range', 'twap'])\n",
    "# pandas add always an index, name it counter\n",
    "pandasData.index.name = 'counter'\n",
    "# write data to cs\n",
    "pandasData.to_csv(\"./csvData/\" + \"coingecko_\" +\"spiritswap_TWAP.csv\", sep=',', encoding='utf-8')\n",
    "print(pandasData)"
   ]
  },
  {
   "cell_type": "code",
   "execution_count": 18,
   "metadata": {},
   "outputs": [
    {
     "data": {
      "image/png": "[encoded data removed]",
      "text/plain": [
       "<Figure size 432x288 with 1 Axes>"
      ]
     },
     "metadata": {
      "needs_background": "light"
     },
     "output_type": "display_data"
    }
   ],
   "source": [
    "# plot the data\n",
    "plt.plot(TWAPArray)\n",
    "plt.xlabel('Weeks')\n",
    "plt.ylabel('Spirit Price')\n",
    "plt.show()"
   ]
  }
 ],
 "metadata": {
  "interpreter": {
   "hash": "63fd5069d213b44bf678585dea6b12cceca9941eaf7f819626cde1f2670de90d"
  },
  "kernelspec": {
   "display_name": "Python 3.9.7 64-bit",
   "language": "python",
   "name": "python3"
  },
  "language_info": {
   "codemirror_mode": {
    "name": "ipython",
    "version": 3
   },
   "file_extension": ".py",
   "mimetype": "text/x-python",
   "name": "python",
   "nbconvert_exporter": "python",
   "pygments_lexer": "ipython3",
   "version": "3.9.7"
  },
  "orig_nbformat": 4
 },
 "nbformat": 4,
 "nbformat_minor": 2
}
